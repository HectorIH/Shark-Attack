{
 "cells": [
  {
   "cell_type": "code",
   "execution_count": 179,
   "metadata": {
    "ExecuteTime": {
     "end_time": "2021-08-25T14:07:54.304647Z",
     "start_time": "2021-08-25T14:07:54.293273Z"
    }
   },
   "outputs": [],
   "source": [
    "import pandas as pd\n",
    "import numpy as np\n",
    "\n"
   ]
  },
  {
   "cell_type": "markdown",
   "metadata": {},
   "source": [
    "In this project, I would like to show the top 3 countries if you want to get killed by a shark and what activity you wanna join in order to be successful :) .\n",
    "\n",
    "TOP 3  : \n",
    " \n",
    "1 - AUSTRALIA\n",
    "2 - USA \n",
    "3 - SOUTH AFRICA\n",
    "\n",
    "Most dangerous activity : \n",
    "\n",
    "- Surfing"
   ]
  },
  {
   "cell_type": "code",
   "execution_count": 2,
   "metadata": {
    "ExecuteTime": {
     "end_time": "2021-08-25T07:20:04.967336Z",
     "start_time": "2021-08-25T07:20:04.857628Z"
    }
   },
   "outputs": [],
   "source": [
    "df = pd.read_csv('attacks.csv', encoding='latin1')"
   ]
  },
  {
   "cell_type": "code",
   "execution_count": 3,
   "metadata": {
    "ExecuteTime": {
     "end_time": "2021-08-25T07:20:05.014210Z",
     "start_time": "2021-08-25T07:20:04.969335Z"
    },
    "collapsed": true
   },
   "outputs": [
    {
     "data": {
      "text/html": [
       "<div>\n",
       "<style scoped>\n",
       "    .dataframe tbody tr th:only-of-type {\n",
       "        vertical-align: middle;\n",
       "    }\n",
       "\n",
       "    .dataframe tbody tr th {\n",
       "        vertical-align: top;\n",
       "    }\n",
       "\n",
       "    .dataframe thead th {\n",
       "        text-align: right;\n",
       "    }\n",
       "</style>\n",
       "<table border=\"1\" class=\"dataframe\">\n",
       "  <thead>\n",
       "    <tr style=\"text-align: right;\">\n",
       "      <th></th>\n",
       "      <th>Case Number</th>\n",
       "      <th>Date</th>\n",
       "      <th>Year</th>\n",
       "      <th>Type</th>\n",
       "      <th>Country</th>\n",
       "      <th>Area</th>\n",
       "      <th>Location</th>\n",
       "      <th>Activity</th>\n",
       "      <th>Name</th>\n",
       "      <th>Sex</th>\n",
       "      <th>...</th>\n",
       "      <th>Species</th>\n",
       "      <th>Investigator or Source</th>\n",
       "      <th>pdf</th>\n",
       "      <th>href formula</th>\n",
       "      <th>href</th>\n",
       "      <th>Case Number.1</th>\n",
       "      <th>Case Number.2</th>\n",
       "      <th>original order</th>\n",
       "      <th>Unnamed: 22</th>\n",
       "      <th>Unnamed: 23</th>\n",
       "    </tr>\n",
       "  </thead>\n",
       "  <tbody>\n",
       "    <tr>\n",
       "      <th>0</th>\n",
       "      <td>2018.06.25</td>\n",
       "      <td>25-Jun-2018</td>\n",
       "      <td>2018.0</td>\n",
       "      <td>Boating</td>\n",
       "      <td>USA</td>\n",
       "      <td>California</td>\n",
       "      <td>Oceanside, San Diego County</td>\n",
       "      <td>Paddling</td>\n",
       "      <td>Julie Wolfe</td>\n",
       "      <td>F</td>\n",
       "      <td>...</td>\n",
       "      <td>White shark</td>\n",
       "      <td>R. Collier, GSAF</td>\n",
       "      <td>2018.06.25-Wolfe.pdf</td>\n",
       "      <td>http://sharkattackfile.net/spreadsheets/pdf_di...</td>\n",
       "      <td>http://sharkattackfile.net/spreadsheets/pdf_di...</td>\n",
       "      <td>2018.06.25</td>\n",
       "      <td>2018.06.25</td>\n",
       "      <td>6303.0</td>\n",
       "      <td>NaN</td>\n",
       "      <td>NaN</td>\n",
       "    </tr>\n",
       "    <tr>\n",
       "      <th>1</th>\n",
       "      <td>2018.06.18</td>\n",
       "      <td>18-Jun-2018</td>\n",
       "      <td>2018.0</td>\n",
       "      <td>Unprovoked</td>\n",
       "      <td>USA</td>\n",
       "      <td>Georgia</td>\n",
       "      <td>St. Simon Island, Glynn County</td>\n",
       "      <td>Standing</td>\n",
       "      <td>Adyson McNeely</td>\n",
       "      <td>F</td>\n",
       "      <td>...</td>\n",
       "      <td>NaN</td>\n",
       "      <td>K.McMurray, TrackingSharks.com</td>\n",
       "      <td>2018.06.18-McNeely.pdf</td>\n",
       "      <td>http://sharkattackfile.net/spreadsheets/pdf_di...</td>\n",
       "      <td>http://sharkattackfile.net/spreadsheets/pdf_di...</td>\n",
       "      <td>2018.06.18</td>\n",
       "      <td>2018.06.18</td>\n",
       "      <td>6302.0</td>\n",
       "      <td>NaN</td>\n",
       "      <td>NaN</td>\n",
       "    </tr>\n",
       "    <tr>\n",
       "      <th>2</th>\n",
       "      <td>2018.06.09</td>\n",
       "      <td>09-Jun-2018</td>\n",
       "      <td>2018.0</td>\n",
       "      <td>Invalid</td>\n",
       "      <td>USA</td>\n",
       "      <td>Hawaii</td>\n",
       "      <td>Habush, Oahu</td>\n",
       "      <td>Surfing</td>\n",
       "      <td>John Denges</td>\n",
       "      <td>M</td>\n",
       "      <td>...</td>\n",
       "      <td>NaN</td>\n",
       "      <td>K.McMurray, TrackingSharks.com</td>\n",
       "      <td>2018.06.09-Denges.pdf</td>\n",
       "      <td>http://sharkattackfile.net/spreadsheets/pdf_di...</td>\n",
       "      <td>http://sharkattackfile.net/spreadsheets/pdf_di...</td>\n",
       "      <td>2018.06.09</td>\n",
       "      <td>2018.06.09</td>\n",
       "      <td>6301.0</td>\n",
       "      <td>NaN</td>\n",
       "      <td>NaN</td>\n",
       "    </tr>\n",
       "    <tr>\n",
       "      <th>3</th>\n",
       "      <td>2018.06.08</td>\n",
       "      <td>08-Jun-2018</td>\n",
       "      <td>2018.0</td>\n",
       "      <td>Unprovoked</td>\n",
       "      <td>AUSTRALIA</td>\n",
       "      <td>New South Wales</td>\n",
       "      <td>Arrawarra Headland</td>\n",
       "      <td>Surfing</td>\n",
       "      <td>male</td>\n",
       "      <td>M</td>\n",
       "      <td>...</td>\n",
       "      <td>2 m shark</td>\n",
       "      <td>B. Myatt, GSAF</td>\n",
       "      <td>2018.06.08-Arrawarra.pdf</td>\n",
       "      <td>http://sharkattackfile.net/spreadsheets/pdf_di...</td>\n",
       "      <td>http://sharkattackfile.net/spreadsheets/pdf_di...</td>\n",
       "      <td>2018.06.08</td>\n",
       "      <td>2018.06.08</td>\n",
       "      <td>6300.0</td>\n",
       "      <td>NaN</td>\n",
       "      <td>NaN</td>\n",
       "    </tr>\n",
       "    <tr>\n",
       "      <th>4</th>\n",
       "      <td>2018.06.04</td>\n",
       "      <td>04-Jun-2018</td>\n",
       "      <td>2018.0</td>\n",
       "      <td>Provoked</td>\n",
       "      <td>MEXICO</td>\n",
       "      <td>Colima</td>\n",
       "      <td>La Ticla</td>\n",
       "      <td>Free diving</td>\n",
       "      <td>Gustavo Ramos</td>\n",
       "      <td>M</td>\n",
       "      <td>...</td>\n",
       "      <td>Tiger shark, 3m</td>\n",
       "      <td>A .Kipper</td>\n",
       "      <td>2018.06.04-Ramos.pdf</td>\n",
       "      <td>http://sharkattackfile.net/spreadsheets/pdf_di...</td>\n",
       "      <td>http://sharkattackfile.net/spreadsheets/pdf_di...</td>\n",
       "      <td>2018.06.04</td>\n",
       "      <td>2018.06.04</td>\n",
       "      <td>6299.0</td>\n",
       "      <td>NaN</td>\n",
       "      <td>NaN</td>\n",
       "    </tr>\n",
       "  </tbody>\n",
       "</table>\n",
       "<p>5 rows × 24 columns</p>\n",
       "</div>"
      ],
      "text/plain": [
       "  Case Number         Date    Year        Type    Country             Area  \\\n",
       "0  2018.06.25  25-Jun-2018  2018.0     Boating        USA       California   \n",
       "1  2018.06.18  18-Jun-2018  2018.0  Unprovoked        USA          Georgia   \n",
       "2  2018.06.09  09-Jun-2018  2018.0     Invalid        USA           Hawaii   \n",
       "3  2018.06.08  08-Jun-2018  2018.0  Unprovoked  AUSTRALIA  New South Wales   \n",
       "4  2018.06.04  04-Jun-2018  2018.0    Provoked     MEXICO           Colima   \n",
       "\n",
       "                         Location     Activity             Name Sex   ...  \\\n",
       "0     Oceanside, San Diego County     Paddling      Julie Wolfe    F  ...   \n",
       "1  St. Simon Island, Glynn County     Standing  Adyson McNeely     F  ...   \n",
       "2                    Habush, Oahu      Surfing      John Denges    M  ...   \n",
       "3              Arrawarra Headland      Surfing             male    M  ...   \n",
       "4                        La Ticla  Free diving   Gustavo Ramos     M  ...   \n",
       "\n",
       "          Species           Investigator or Source                       pdf  \\\n",
       "0      White shark                R. Collier, GSAF      2018.06.25-Wolfe.pdf   \n",
       "1              NaN  K.McMurray, TrackingSharks.com    2018.06.18-McNeely.pdf   \n",
       "2              NaN  K.McMurray, TrackingSharks.com     2018.06.09-Denges.pdf   \n",
       "3        2 m shark                  B. Myatt, GSAF  2018.06.08-Arrawarra.pdf   \n",
       "4  Tiger shark, 3m                       A .Kipper      2018.06.04-Ramos.pdf   \n",
       "\n",
       "                                        href formula  \\\n",
       "0  http://sharkattackfile.net/spreadsheets/pdf_di...   \n",
       "1  http://sharkattackfile.net/spreadsheets/pdf_di...   \n",
       "2  http://sharkattackfile.net/spreadsheets/pdf_di...   \n",
       "3  http://sharkattackfile.net/spreadsheets/pdf_di...   \n",
       "4  http://sharkattackfile.net/spreadsheets/pdf_di...   \n",
       "\n",
       "                                                href Case Number.1  \\\n",
       "0  http://sharkattackfile.net/spreadsheets/pdf_di...    2018.06.25   \n",
       "1  http://sharkattackfile.net/spreadsheets/pdf_di...    2018.06.18   \n",
       "2  http://sharkattackfile.net/spreadsheets/pdf_di...    2018.06.09   \n",
       "3  http://sharkattackfile.net/spreadsheets/pdf_di...    2018.06.08   \n",
       "4  http://sharkattackfile.net/spreadsheets/pdf_di...    2018.06.04   \n",
       "\n",
       "  Case Number.2 original order Unnamed: 22 Unnamed: 23  \n",
       "0    2018.06.25         6303.0         NaN         NaN  \n",
       "1    2018.06.18         6302.0         NaN         NaN  \n",
       "2    2018.06.09         6301.0         NaN         NaN  \n",
       "3    2018.06.08         6300.0         NaN         NaN  \n",
       "4    2018.06.04         6299.0         NaN         NaN  \n",
       "\n",
       "[5 rows x 24 columns]"
      ]
     },
     "execution_count": 3,
     "metadata": {},
     "output_type": "execute_result"
    }
   ],
   "source": [
    "df.head()"
   ]
  },
  {
   "cell_type": "code",
   "execution_count": 138,
   "metadata": {
    "ExecuteTime": {
     "end_time": "2021-08-25T12:35:14.006883Z",
     "start_time": "2021-08-25T12:35:13.991924Z"
    },
    "collapsed": true
   },
   "outputs": [
    {
     "data": {
      "text/plain": [
       "<bound method DataFrame.info of            Country                                           Activity  \\\n",
       "4636   PHILIPPINES  USS Hoel DD 533 sunk on 10/24/1944 in the Batt...   \n",
       "1679         TONGA  Five men on makeshift raft after their 10 m fi...   \n",
       "1678         TONGA  Five men on makeshift raft after their 10 m fi...   \n",
       "2035         TONGA                                       Scuba diving   \n",
       "6049        AFRICA                                  Jumped into river   \n",
       "...            ...                                                ...   \n",
       "5547        YEMEN                        Diving around anchored liner   \n",
       "5611        YEMEN             Wreck of the steamship Sultan of Bombay   \n",
       "5473        YEMEN                        Diving around anchored liner   \n",
       "5591        YEMEN                      Swimming at side of small boat   \n",
       "5592        YEMEN                                            Standing   \n",
       "\n",
       "     Fatal (Y/N)  \n",
       "4636           Y  \n",
       "1679           Y  \n",
       "1678           Y  \n",
       "2035           N  \n",
       "6049           Y  \n",
       "...          ...  \n",
       "5547         NaN  \n",
       "5611           Y  \n",
       "5473           N  \n",
       "5591           Y  \n",
       "5592           Y  \n",
       "\n",
       "[5715 rows x 3 columns]>"
      ]
     },
     "execution_count": 138,
     "metadata": {},
     "output_type": "execute_result"
    }
   ],
   "source": [
    "df.info"
   ]
  },
  {
   "cell_type": "code",
   "execution_count": 10,
   "metadata": {
    "ExecuteTime": {
     "end_time": "2021-08-25T07:22:30.649985Z",
     "start_time": "2021-08-25T07:22:30.641009Z"
    },
    "collapsed": true
   },
   "outputs": [
    {
     "data": {
      "text/plain": [
       "Index(['Case Number', 'Date', 'Year', 'Type', 'Country', 'Area', 'Location',\n",
       "       'Activity', 'Name', 'Sex ', 'Age', 'Injury', 'Fatal (Y/N)', 'Time',\n",
       "       'Species ', 'Investigator or Source', 'pdf', 'href formula', 'href',\n",
       "       'Case Number.1', 'Case Number.2', 'original order', 'Unnamed: 22',\n",
       "       'Unnamed: 23'],\n",
       "      dtype='object')"
      ]
     },
     "execution_count": 10,
     "metadata": {},
     "output_type": "execute_result"
    }
   ],
   "source": [
    "df.columns"
   ]
  },
  {
   "cell_type": "raw",
   "metadata": {},
   "source": [
    "Finding out the number of cases per country."
   ]
  },
  {
   "cell_type": "code",
   "execution_count": 165,
   "metadata": {
    "ExecuteTime": {
     "end_time": "2021-08-25T13:23:24.375770Z",
     "start_time": "2021-08-25T13:23:24.367733Z"
    },
    "collapsed": true
   },
   "outputs": [
    {
     "data": {
      "text/plain": [
       "USA                 2095\n",
       "AUSTRALIA           1215\n",
       "SOUTH AFRICA         535\n",
       "NEW ZEALAND          120\n",
       "PAPUA NEW GUINEA     112\n",
       "                    ... \n",
       "Sierra Leone           1\n",
       "ANGOLA                 1\n",
       "DIEGO GARCIA           1\n",
       "GHANA                  1\n",
       "GABON                  1\n",
       "Name: Country, Length: 206, dtype: int64"
      ]
     },
     "execution_count": 165,
     "metadata": {},
     "output_type": "execute_result"
    }
   ],
   "source": [
    "df['Country'].value_counts()\n"
   ]
  },
  {
   "cell_type": "code",
   "execution_count": 14,
   "metadata": {
    "ExecuteTime": {
     "end_time": "2021-08-25T07:29:44.479051Z",
     "start_time": "2021-08-25T07:29:44.392239Z"
    },
    "collapsed": true
   },
   "outputs": [
    {
     "data": {
      "text/html": [
       "<div>\n",
       "<style scoped>\n",
       "    .dataframe tbody tr th:only-of-type {\n",
       "        vertical-align: middle;\n",
       "    }\n",
       "\n",
       "    .dataframe tbody tr th {\n",
       "        vertical-align: top;\n",
       "    }\n",
       "\n",
       "    .dataframe thead th {\n",
       "        text-align: right;\n",
       "    }\n",
       "</style>\n",
       "<table border=\"1\" class=\"dataframe\">\n",
       "  <thead>\n",
       "    <tr style=\"text-align: right;\">\n",
       "      <th></th>\n",
       "      <th>Case Number</th>\n",
       "      <th>Date</th>\n",
       "      <th>Year</th>\n",
       "      <th>Type</th>\n",
       "      <th>Country</th>\n",
       "      <th>Area</th>\n",
       "      <th>Location</th>\n",
       "      <th>Activity</th>\n",
       "      <th>Name</th>\n",
       "      <th>Sex</th>\n",
       "      <th>...</th>\n",
       "      <th>Species</th>\n",
       "      <th>Investigator or Source</th>\n",
       "      <th>pdf</th>\n",
       "      <th>href formula</th>\n",
       "      <th>href</th>\n",
       "      <th>Case Number.1</th>\n",
       "      <th>Case Number.2</th>\n",
       "      <th>original order</th>\n",
       "      <th>Unnamed: 22</th>\n",
       "      <th>Unnamed: 23</th>\n",
       "    </tr>\n",
       "  </thead>\n",
       "  <tbody>\n",
       "    <tr>\n",
       "      <th>0</th>\n",
       "      <td>2018.06.25</td>\n",
       "      <td>25-Jun-2018</td>\n",
       "      <td>2018.0</td>\n",
       "      <td>Boating</td>\n",
       "      <td>USA</td>\n",
       "      <td>California</td>\n",
       "      <td>Oceanside, San Diego County</td>\n",
       "      <td>Paddling</td>\n",
       "      <td>Julie Wolfe</td>\n",
       "      <td>F</td>\n",
       "      <td>...</td>\n",
       "      <td>White shark</td>\n",
       "      <td>R. Collier, GSAF</td>\n",
       "      <td>2018.06.25-Wolfe.pdf</td>\n",
       "      <td>http://sharkattackfile.net/spreadsheets/pdf_di...</td>\n",
       "      <td>http://sharkattackfile.net/spreadsheets/pdf_di...</td>\n",
       "      <td>2018.06.25</td>\n",
       "      <td>2018.06.25</td>\n",
       "      <td>6303.0</td>\n",
       "      <td>NaN</td>\n",
       "      <td>NaN</td>\n",
       "    </tr>\n",
       "    <tr>\n",
       "      <th>1</th>\n",
       "      <td>2018.06.18</td>\n",
       "      <td>18-Jun-2018</td>\n",
       "      <td>2018.0</td>\n",
       "      <td>Unprovoked</td>\n",
       "      <td>USA</td>\n",
       "      <td>Georgia</td>\n",
       "      <td>St. Simon Island, Glynn County</td>\n",
       "      <td>Standing</td>\n",
       "      <td>Adyson McNeely</td>\n",
       "      <td>F</td>\n",
       "      <td>...</td>\n",
       "      <td>NaN</td>\n",
       "      <td>K.McMurray, TrackingSharks.com</td>\n",
       "      <td>2018.06.18-McNeely.pdf</td>\n",
       "      <td>http://sharkattackfile.net/spreadsheets/pdf_di...</td>\n",
       "      <td>http://sharkattackfile.net/spreadsheets/pdf_di...</td>\n",
       "      <td>2018.06.18</td>\n",
       "      <td>2018.06.18</td>\n",
       "      <td>6302.0</td>\n",
       "      <td>NaN</td>\n",
       "      <td>NaN</td>\n",
       "    </tr>\n",
       "    <tr>\n",
       "      <th>2</th>\n",
       "      <td>2018.06.09</td>\n",
       "      <td>09-Jun-2018</td>\n",
       "      <td>2018.0</td>\n",
       "      <td>Invalid</td>\n",
       "      <td>USA</td>\n",
       "      <td>Hawaii</td>\n",
       "      <td>Habush, Oahu</td>\n",
       "      <td>Surfing</td>\n",
       "      <td>John Denges</td>\n",
       "      <td>M</td>\n",
       "      <td>...</td>\n",
       "      <td>NaN</td>\n",
       "      <td>K.McMurray, TrackingSharks.com</td>\n",
       "      <td>2018.06.09-Denges.pdf</td>\n",
       "      <td>http://sharkattackfile.net/spreadsheets/pdf_di...</td>\n",
       "      <td>http://sharkattackfile.net/spreadsheets/pdf_di...</td>\n",
       "      <td>2018.06.09</td>\n",
       "      <td>2018.06.09</td>\n",
       "      <td>6301.0</td>\n",
       "      <td>NaN</td>\n",
       "      <td>NaN</td>\n",
       "    </tr>\n",
       "    <tr>\n",
       "      <th>3</th>\n",
       "      <td>2018.06.08</td>\n",
       "      <td>08-Jun-2018</td>\n",
       "      <td>2018.0</td>\n",
       "      <td>Unprovoked</td>\n",
       "      <td>AUSTRALIA</td>\n",
       "      <td>New South Wales</td>\n",
       "      <td>Arrawarra Headland</td>\n",
       "      <td>Surfing</td>\n",
       "      <td>male</td>\n",
       "      <td>M</td>\n",
       "      <td>...</td>\n",
       "      <td>2 m shark</td>\n",
       "      <td>B. Myatt, GSAF</td>\n",
       "      <td>2018.06.08-Arrawarra.pdf</td>\n",
       "      <td>http://sharkattackfile.net/spreadsheets/pdf_di...</td>\n",
       "      <td>http://sharkattackfile.net/spreadsheets/pdf_di...</td>\n",
       "      <td>2018.06.08</td>\n",
       "      <td>2018.06.08</td>\n",
       "      <td>6300.0</td>\n",
       "      <td>NaN</td>\n",
       "      <td>NaN</td>\n",
       "    </tr>\n",
       "    <tr>\n",
       "      <th>4</th>\n",
       "      <td>2018.06.04</td>\n",
       "      <td>04-Jun-2018</td>\n",
       "      <td>2018.0</td>\n",
       "      <td>Provoked</td>\n",
       "      <td>MEXICO</td>\n",
       "      <td>Colima</td>\n",
       "      <td>La Ticla</td>\n",
       "      <td>Free diving</td>\n",
       "      <td>Gustavo Ramos</td>\n",
       "      <td>M</td>\n",
       "      <td>...</td>\n",
       "      <td>Tiger shark, 3m</td>\n",
       "      <td>A .Kipper</td>\n",
       "      <td>2018.06.04-Ramos.pdf</td>\n",
       "      <td>http://sharkattackfile.net/spreadsheets/pdf_di...</td>\n",
       "      <td>http://sharkattackfile.net/spreadsheets/pdf_di...</td>\n",
       "      <td>2018.06.04</td>\n",
       "      <td>2018.06.04</td>\n",
       "      <td>6299.0</td>\n",
       "      <td>NaN</td>\n",
       "      <td>NaN</td>\n",
       "    </tr>\n",
       "    <tr>\n",
       "      <th>...</th>\n",
       "      <td>...</td>\n",
       "      <td>...</td>\n",
       "      <td>...</td>\n",
       "      <td>...</td>\n",
       "      <td>...</td>\n",
       "      <td>...</td>\n",
       "      <td>...</td>\n",
       "      <td>...</td>\n",
       "      <td>...</td>\n",
       "      <td>...</td>\n",
       "      <td>...</td>\n",
       "      <td>...</td>\n",
       "      <td>...</td>\n",
       "      <td>...</td>\n",
       "      <td>...</td>\n",
       "      <td>...</td>\n",
       "      <td>...</td>\n",
       "      <td>...</td>\n",
       "      <td>...</td>\n",
       "      <td>...</td>\n",
       "      <td>...</td>\n",
       "    </tr>\n",
       "    <tr>\n",
       "      <th>6296</th>\n",
       "      <td>ND.0006</td>\n",
       "      <td>Before 1906</td>\n",
       "      <td>0.0</td>\n",
       "      <td>Unprovoked</td>\n",
       "      <td>AUSTRALIA</td>\n",
       "      <td>New South Wales</td>\n",
       "      <td></td>\n",
       "      <td>Swimming</td>\n",
       "      <td>Arab boy</td>\n",
       "      <td>M</td>\n",
       "      <td>...</td>\n",
       "      <td>Said to involve a grey nurse shark that leapt ...</td>\n",
       "      <td>L. Becke in New York Sun, 9/9/1906; L. Schultz...</td>\n",
       "      <td>ND-0006-ArabBoy-Prymount.pdf</td>\n",
       "      <td>http://sharkattackfile.net/spreadsheets/pdf_di...</td>\n",
       "      <td>http://sharkattackfile.net/spreadsheets/pdf_di...</td>\n",
       "      <td>ND.0006</td>\n",
       "      <td>ND.0006</td>\n",
       "      <td>7.0</td>\n",
       "      <td>NaN</td>\n",
       "      <td>NaN</td>\n",
       "    </tr>\n",
       "    <tr>\n",
       "      <th>6297</th>\n",
       "      <td>ND.0005</td>\n",
       "      <td>Before 1903</td>\n",
       "      <td>0.0</td>\n",
       "      <td>Unprovoked</td>\n",
       "      <td>AUSTRALIA</td>\n",
       "      <td>Western Australia</td>\n",
       "      <td>Roebuck Bay</td>\n",
       "      <td>Diving</td>\n",
       "      <td>male</td>\n",
       "      <td>M</td>\n",
       "      <td>...</td>\n",
       "      <td>NaN</td>\n",
       "      <td>H. Taunton; N. Bartlett,  p. 234</td>\n",
       "      <td>ND-0005-RoebuckBay.pdf</td>\n",
       "      <td>http://sharkattackfile.net/spreadsheets/pdf_di...</td>\n",
       "      <td>http://sharkattackfile.net/spreadsheets/pdf_di...</td>\n",
       "      <td>ND.0005</td>\n",
       "      <td>ND.0005</td>\n",
       "      <td>6.0</td>\n",
       "      <td>NaN</td>\n",
       "      <td>NaN</td>\n",
       "    </tr>\n",
       "    <tr>\n",
       "      <th>6298</th>\n",
       "      <td>ND.0004</td>\n",
       "      <td>Before 1903</td>\n",
       "      <td>0.0</td>\n",
       "      <td>Unprovoked</td>\n",
       "      <td>AUSTRALIA</td>\n",
       "      <td>Western Australia</td>\n",
       "      <td>NaN</td>\n",
       "      <td>Pearl diving</td>\n",
       "      <td>Ahmun</td>\n",
       "      <td>M</td>\n",
       "      <td>...</td>\n",
       "      <td>NaN</td>\n",
       "      <td>H. Taunton; N. Bartlett,  pp. 233-234</td>\n",
       "      <td>ND-0004-Ahmun.pdf</td>\n",
       "      <td>http://sharkattackfile.net/spreadsheets/pdf_di...</td>\n",
       "      <td>http://sharkattackfile.net/spreadsheets/pdf_di...</td>\n",
       "      <td>ND.0004</td>\n",
       "      <td>ND.0004</td>\n",
       "      <td>5.0</td>\n",
       "      <td>NaN</td>\n",
       "      <td>NaN</td>\n",
       "    </tr>\n",
       "    <tr>\n",
       "      <th>6299</th>\n",
       "      <td>ND.0003</td>\n",
       "      <td>1900-1905</td>\n",
       "      <td>0.0</td>\n",
       "      <td>Unprovoked</td>\n",
       "      <td>USA</td>\n",
       "      <td>North Carolina</td>\n",
       "      <td>Ocracoke Inlet</td>\n",
       "      <td>Swimming</td>\n",
       "      <td>Coast Guard personnel</td>\n",
       "      <td>M</td>\n",
       "      <td>...</td>\n",
       "      <td>NaN</td>\n",
       "      <td>F. Schwartz, p.23; C. Creswell, GSAF</td>\n",
       "      <td>ND-0003-Ocracoke_1900-1905.pdf</td>\n",
       "      <td>http://sharkattackfile.net/spreadsheets/pdf_di...</td>\n",
       "      <td>http://sharkattackfile.net/spreadsheets/pdf_di...</td>\n",
       "      <td>ND.0003</td>\n",
       "      <td>ND.0003</td>\n",
       "      <td>4.0</td>\n",
       "      <td>NaN</td>\n",
       "      <td>NaN</td>\n",
       "    </tr>\n",
       "    <tr>\n",
       "      <th>6301</th>\n",
       "      <td>ND.0001</td>\n",
       "      <td>1845-1853</td>\n",
       "      <td>0.0</td>\n",
       "      <td>Unprovoked</td>\n",
       "      <td>CEYLON (SRI LANKA)</td>\n",
       "      <td>Eastern Province</td>\n",
       "      <td>Below the English fort, Trincomalee</td>\n",
       "      <td>Swimming</td>\n",
       "      <td>male</td>\n",
       "      <td>M</td>\n",
       "      <td>...</td>\n",
       "      <td>NaN</td>\n",
       "      <td>S.W. Baker</td>\n",
       "      <td>ND-0001-Ceylon.pdf</td>\n",
       "      <td>http://sharkattackfile.net/spreadsheets/pdf_di...</td>\n",
       "      <td>http://sharkattackfile.net/spreadsheets/pdf_di...</td>\n",
       "      <td>ND.0001</td>\n",
       "      <td>ND.0001</td>\n",
       "      <td>2.0</td>\n",
       "      <td>NaN</td>\n",
       "      <td>NaN</td>\n",
       "    </tr>\n",
       "  </tbody>\n",
       "</table>\n",
       "<p>5715 rows × 24 columns</p>\n",
       "</div>"
      ],
      "text/plain": [
       "     Case Number         Date    Year        Type             Country  \\\n",
       "0     2018.06.25  25-Jun-2018  2018.0     Boating                 USA   \n",
       "1     2018.06.18  18-Jun-2018  2018.0  Unprovoked                 USA   \n",
       "2     2018.06.09  09-Jun-2018  2018.0     Invalid                 USA   \n",
       "3     2018.06.08  08-Jun-2018  2018.0  Unprovoked           AUSTRALIA   \n",
       "4     2018.06.04  04-Jun-2018  2018.0    Provoked              MEXICO   \n",
       "...          ...          ...     ...         ...                 ...   \n",
       "6296     ND.0006  Before 1906     0.0  Unprovoked           AUSTRALIA   \n",
       "6297     ND.0005  Before 1903     0.0  Unprovoked           AUSTRALIA   \n",
       "6298     ND.0004  Before 1903     0.0  Unprovoked           AUSTRALIA   \n",
       "6299     ND.0003    1900-1905     0.0  Unprovoked                 USA   \n",
       "6301     ND.0001    1845-1853     0.0  Unprovoked  CEYLON (SRI LANKA)   \n",
       "\n",
       "                   Area                             Location      Activity  \\\n",
       "0            California          Oceanside, San Diego County      Paddling   \n",
       "1               Georgia       St. Simon Island, Glynn County      Standing   \n",
       "2                Hawaii                         Habush, Oahu       Surfing   \n",
       "3       New South Wales                   Arrawarra Headland       Surfing   \n",
       "4                Colima                             La Ticla   Free diving   \n",
       "...                 ...                                  ...           ...   \n",
       "6296    New South Wales                                           Swimming   \n",
       "6297  Western Australia                          Roebuck Bay        Diving   \n",
       "6298  Western Australia                                  NaN  Pearl diving   \n",
       "6299     North Carolina                       Ocracoke Inlet      Swimming   \n",
       "6301   Eastern Province  Below the English fort, Trincomalee      Swimming   \n",
       "\n",
       "                       Name Sex   ...  \\\n",
       "0               Julie Wolfe    F  ...   \n",
       "1           Adyson McNeely     F  ...   \n",
       "2               John Denges    M  ...   \n",
       "3                      male    M  ...   \n",
       "4            Gustavo Ramos     M  ...   \n",
       "...                     ...  ...  ...   \n",
       "6296               Arab boy    M  ...   \n",
       "6297                   male    M  ...   \n",
       "6298                  Ahmun    M  ...   \n",
       "6299  Coast Guard personnel    M  ...   \n",
       "6301                   male    M  ...   \n",
       "\n",
       "                                               Species   \\\n",
       "0                                           White shark   \n",
       "1                                                   NaN   \n",
       "2                                                   NaN   \n",
       "3                                             2 m shark   \n",
       "4                                       Tiger shark, 3m   \n",
       "...                                                 ...   \n",
       "6296  Said to involve a grey nurse shark that leapt ...   \n",
       "6297                                                NaN   \n",
       "6298                                                NaN   \n",
       "6299                                                NaN   \n",
       "6301                                                NaN   \n",
       "\n",
       "                                 Investigator or Source  \\\n",
       "0                                      R. Collier, GSAF   \n",
       "1                        K.McMurray, TrackingSharks.com   \n",
       "2                        K.McMurray, TrackingSharks.com   \n",
       "3                                        B. Myatt, GSAF   \n",
       "4                                             A .Kipper   \n",
       "...                                                 ...   \n",
       "6296  L. Becke in New York Sun, 9/9/1906; L. Schultz...   \n",
       "6297                   H. Taunton; N. Bartlett,  p. 234   \n",
       "6298              H. Taunton; N. Bartlett,  pp. 233-234   \n",
       "6299               F. Schwartz, p.23; C. Creswell, GSAF   \n",
       "6301                                         S.W. Baker   \n",
       "\n",
       "                                 pdf  \\\n",
       "0               2018.06.25-Wolfe.pdf   \n",
       "1             2018.06.18-McNeely.pdf   \n",
       "2              2018.06.09-Denges.pdf   \n",
       "3           2018.06.08-Arrawarra.pdf   \n",
       "4               2018.06.04-Ramos.pdf   \n",
       "...                              ...   \n",
       "6296    ND-0006-ArabBoy-Prymount.pdf   \n",
       "6297          ND-0005-RoebuckBay.pdf   \n",
       "6298               ND-0004-Ahmun.pdf   \n",
       "6299  ND-0003-Ocracoke_1900-1905.pdf   \n",
       "6301              ND-0001-Ceylon.pdf   \n",
       "\n",
       "                                           href formula  \\\n",
       "0     http://sharkattackfile.net/spreadsheets/pdf_di...   \n",
       "1     http://sharkattackfile.net/spreadsheets/pdf_di...   \n",
       "2     http://sharkattackfile.net/spreadsheets/pdf_di...   \n",
       "3     http://sharkattackfile.net/spreadsheets/pdf_di...   \n",
       "4     http://sharkattackfile.net/spreadsheets/pdf_di...   \n",
       "...                                                 ...   \n",
       "6296  http://sharkattackfile.net/spreadsheets/pdf_di...   \n",
       "6297  http://sharkattackfile.net/spreadsheets/pdf_di...   \n",
       "6298  http://sharkattackfile.net/spreadsheets/pdf_di...   \n",
       "6299  http://sharkattackfile.net/spreadsheets/pdf_di...   \n",
       "6301  http://sharkattackfile.net/spreadsheets/pdf_di...   \n",
       "\n",
       "                                                   href Case Number.1  \\\n",
       "0     http://sharkattackfile.net/spreadsheets/pdf_di...    2018.06.25   \n",
       "1     http://sharkattackfile.net/spreadsheets/pdf_di...    2018.06.18   \n",
       "2     http://sharkattackfile.net/spreadsheets/pdf_di...    2018.06.09   \n",
       "3     http://sharkattackfile.net/spreadsheets/pdf_di...    2018.06.08   \n",
       "4     http://sharkattackfile.net/spreadsheets/pdf_di...    2018.06.04   \n",
       "...                                                 ...           ...   \n",
       "6296  http://sharkattackfile.net/spreadsheets/pdf_di...       ND.0006   \n",
       "6297  http://sharkattackfile.net/spreadsheets/pdf_di...       ND.0005   \n",
       "6298  http://sharkattackfile.net/spreadsheets/pdf_di...       ND.0004   \n",
       "6299  http://sharkattackfile.net/spreadsheets/pdf_di...       ND.0003   \n",
       "6301  http://sharkattackfile.net/spreadsheets/pdf_di...       ND.0001   \n",
       "\n",
       "     Case Number.2 original order Unnamed: 22 Unnamed: 23  \n",
       "0       2018.06.25         6303.0         NaN         NaN  \n",
       "1       2018.06.18         6302.0         NaN         NaN  \n",
       "2       2018.06.09         6301.0         NaN         NaN  \n",
       "3       2018.06.08         6300.0         NaN         NaN  \n",
       "4       2018.06.04         6299.0         NaN         NaN  \n",
       "...            ...            ...         ...         ...  \n",
       "6296       ND.0006            7.0         NaN         NaN  \n",
       "6297       ND.0005            6.0         NaN         NaN  \n",
       "6298       ND.0004            5.0         NaN         NaN  \n",
       "6299       ND.0003            4.0         NaN         NaN  \n",
       "6301       ND.0001            2.0         NaN         NaN  \n",
       "\n",
       "[5715 rows x 24 columns]"
      ]
     },
     "execution_count": 14,
     "metadata": {},
     "output_type": "execute_result"
    }
   ],
   "source": [
    "df.dropna(subset=['Country','Activity'],inplace=True)\n",
    "df"
   ]
  },
  {
   "cell_type": "raw",
   "metadata": {},
   "source": [
    "Keeping only the necessary columns for the analysis."
   ]
  },
  {
   "cell_type": "code",
   "execution_count": 59,
   "metadata": {
    "ExecuteTime": {
     "end_time": "2021-08-25T11:25:43.259021Z",
     "start_time": "2021-08-25T11:25:43.245085Z"
    },
    "collapsed": true
   },
   "outputs": [
    {
     "data": {
      "text/html": [
       "<div>\n",
       "<style scoped>\n",
       "    .dataframe tbody tr th:only-of-type {\n",
       "        vertical-align: middle;\n",
       "    }\n",
       "\n",
       "    .dataframe tbody tr th {\n",
       "        vertical-align: top;\n",
       "    }\n",
       "\n",
       "    .dataframe thead th {\n",
       "        text-align: right;\n",
       "    }\n",
       "</style>\n",
       "<table border=\"1\" class=\"dataframe\">\n",
       "  <thead>\n",
       "    <tr style=\"text-align: right;\">\n",
       "      <th></th>\n",
       "      <th>Country</th>\n",
       "      <th>Activity</th>\n",
       "      <th>Fatal (Y/N)</th>\n",
       "    </tr>\n",
       "  </thead>\n",
       "  <tbody>\n",
       "    <tr>\n",
       "      <th>4636</th>\n",
       "      <td>PHILIPPINES</td>\n",
       "      <td>USS Hoel DD 533 sunk on 10/24/1944 in the Batt...</td>\n",
       "      <td>Y</td>\n",
       "    </tr>\n",
       "    <tr>\n",
       "      <th>1679</th>\n",
       "      <td>TONGA</td>\n",
       "      <td>Five men on makeshift raft after their 10 m fi...</td>\n",
       "      <td>Y</td>\n",
       "    </tr>\n",
       "    <tr>\n",
       "      <th>1678</th>\n",
       "      <td>TONGA</td>\n",
       "      <td>Five men on makeshift raft after their 10 m fi...</td>\n",
       "      <td>Y</td>\n",
       "    </tr>\n",
       "    <tr>\n",
       "      <th>2035</th>\n",
       "      <td>TONGA</td>\n",
       "      <td>Scuba diving</td>\n",
       "      <td>N</td>\n",
       "    </tr>\n",
       "    <tr>\n",
       "      <th>6049</th>\n",
       "      <td>AFRICA</td>\n",
       "      <td>Jumped into river</td>\n",
       "      <td>Y</td>\n",
       "    </tr>\n",
       "    <tr>\n",
       "      <th>...</th>\n",
       "      <td>...</td>\n",
       "      <td>...</td>\n",
       "      <td>...</td>\n",
       "    </tr>\n",
       "    <tr>\n",
       "      <th>5547</th>\n",
       "      <td>YEMEN</td>\n",
       "      <td>Diving around anchored liner</td>\n",
       "      <td>NaN</td>\n",
       "    </tr>\n",
       "    <tr>\n",
       "      <th>5611</th>\n",
       "      <td>YEMEN</td>\n",
       "      <td>Wreck of the steamship Sultan of Bombay</td>\n",
       "      <td>Y</td>\n",
       "    </tr>\n",
       "    <tr>\n",
       "      <th>5473</th>\n",
       "      <td>YEMEN</td>\n",
       "      <td>Diving around anchored liner</td>\n",
       "      <td>N</td>\n",
       "    </tr>\n",
       "    <tr>\n",
       "      <th>5591</th>\n",
       "      <td>YEMEN</td>\n",
       "      <td>Swimming at side of small boat</td>\n",
       "      <td>Y</td>\n",
       "    </tr>\n",
       "    <tr>\n",
       "      <th>5592</th>\n",
       "      <td>YEMEN</td>\n",
       "      <td>Standing</td>\n",
       "      <td>Y</td>\n",
       "    </tr>\n",
       "  </tbody>\n",
       "</table>\n",
       "<p>5715 rows × 3 columns</p>\n",
       "</div>"
      ],
      "text/plain": [
       "           Country                                           Activity  \\\n",
       "4636   PHILIPPINES  USS Hoel DD 533 sunk on 10/24/1944 in the Batt...   \n",
       "1679         TONGA  Five men on makeshift raft after their 10 m fi...   \n",
       "1678         TONGA  Five men on makeshift raft after their 10 m fi...   \n",
       "2035         TONGA                                       Scuba diving   \n",
       "6049        AFRICA                                  Jumped into river   \n",
       "...            ...                                                ...   \n",
       "5547        YEMEN                        Diving around anchored liner   \n",
       "5611        YEMEN             Wreck of the steamship Sultan of Bombay   \n",
       "5473        YEMEN                        Diving around anchored liner   \n",
       "5591        YEMEN                      Swimming at side of small boat   \n",
       "5592        YEMEN                                            Standing   \n",
       "\n",
       "     Fatal (Y/N)  \n",
       "4636           Y  \n",
       "1679           Y  \n",
       "1678           Y  \n",
       "2035           N  \n",
       "6049           Y  \n",
       "...          ...  \n",
       "5547         NaN  \n",
       "5611           Y  \n",
       "5473           N  \n",
       "5591           Y  \n",
       "5592           Y  \n",
       "\n",
       "[5715 rows x 3 columns]"
      ]
     },
     "execution_count": 59,
     "metadata": {},
     "output_type": "execute_result"
    }
   ],
   "source": [
    "df = df[['Country','Activity','Fatal (Y/N)',]]\n",
    "df"
   ]
  },
  {
   "cell_type": "code",
   "execution_count": 166,
   "metadata": {
    "ExecuteTime": {
     "end_time": "2021-08-25T13:24:42.057060Z",
     "start_time": "2021-08-25T13:24:42.046622Z"
    },
    "collapsed": true
   },
   "outputs": [
    {
     "data": {
      "text/plain": [
       "array([' PHILIPPINES', ' TONGA', 'AFRICA', 'ALGERIA', 'AMERICAN SAMOA',\n",
       "       'ANDAMAN / NICOBAR ISLANDAS', 'ANDAMAN ISLANDS', 'ANGOLA',\n",
       "       'ANTIGUA', 'ARGENTINA', 'ARUBA', 'ASIA ', 'ATLANTIC OCEAN',\n",
       "       'AUSTRALIA', 'AZORES', 'BAHAMAS', 'BAHREIN', 'BANGLADESH',\n",
       "       'BARBADOS', 'BAY OF BENGAL', 'BELIZE', 'BERMUDA', 'BRAZIL',\n",
       "       'BRITISH ISLES', 'BRITISH NEW GUINEA', 'BRITISH VIRGIN ISLANDS',\n",
       "       'BRITISH WEST INDIES', 'BURMA', 'Between PORTUGAL & INDIA',\n",
       "       'CANADA', 'CAPE VERDE', 'CARIBBEAN SEA', 'CAYMAN ISLANDS',\n",
       "       'CENTRAL PACIFIC', 'CEYLON', 'CEYLON (SRI LANKA)', 'CHILE',\n",
       "       'CHINA', 'COLUMBIA', 'COMOROS', 'COOK ISLANDS', 'COSTA RICA',\n",
       "       'CRETE', 'CROATIA', 'CUBA', 'CURACAO', 'CYPRUS', 'Coast of AFRICA',\n",
       "       'DIEGO GARCIA', 'DJIBOUTI', 'DOMINICAN REPUBLIC', 'ECUADOR',\n",
       "       'EGYPT', 'EGYPT ', 'EGYPT / ISRAEL', 'EL SALVADOR', 'ENGLAND',\n",
       "       'EQUATORIAL GUINEA / CAMEROON', 'FALKLAND ISLANDS',\n",
       "       'FEDERATED STATES OF MICRONESIA', 'FIJI', 'FRANCE',\n",
       "       'FRENCH POLYNESIA', 'Fiji', 'GABON', 'GEORGIA', 'GHANA',\n",
       "       'GRAND CAYMAN', 'GREECE', 'GRENADA', 'GUAM', 'GUATEMALA', 'GUINEA',\n",
       "       'GULF OF ADEN', 'GUYANA', 'HAITI', 'HONDURAS', 'HONG KONG',\n",
       "       'ICELAND', 'INDIA', 'INDIAN OCEAN', 'INDIAN OCEAN ', 'INDONESIA',\n",
       "       'IRAN', 'IRAQ', 'IRELAND', 'ISRAEL', 'ITALY', 'ITALY / CROATIA',\n",
       "       'JAMAICA', 'JAPAN', 'JAVA', 'JOHNSTON ISLAND', 'KENYA', 'KIRIBATI',\n",
       "       'KOREA', 'KUWAIT', 'LEBANON', 'LIBERIA', 'LIBYA', 'MADAGASCAR',\n",
       "       'MALAYSIA', 'MALDIVE ISLANDS', 'MALDIVES', 'MALTA',\n",
       "       'MARSHALL ISLANDS', 'MARTINIQUE', 'MAURITIUS', 'MAYOTTE',\n",
       "       'MEDITERRANEAN SEA', 'MEXICO', 'MEXICO ', 'MICRONESIA',\n",
       "       'MID ATLANTIC OCEAN', 'MID-PACIFC OCEAN', 'MONTENEGRO',\n",
       "       'MOZAMBIQUE', 'NAMIBIA', 'NETHERLANDS ANTILLES', 'NEVIS',\n",
       "       'NEW BRITAIN', 'NEW CALEDONIA', 'NEW GUINEA', 'NEW ZEALAND',\n",
       "       'NICARAGUA', 'NICARAGUA ', 'NIGERIA', 'NORTH ATLANTIC OCEAN',\n",
       "       'NORTH ATLANTIC OCEAN ', 'NORTH PACIFIC OCEAN', 'NORTH SEA',\n",
       "       'NORTHERN ARABIAN SEA', 'NORTHERN MARIANA ISLANDS', 'NORWAY',\n",
       "       'OCEAN', 'OKINAWA', 'PACIFIC OCEAN', 'PACIFIC OCEAN ', 'PALAU',\n",
       "       'PALESTINIAN TERRITORIES', 'PANAMA', 'PAPUA NEW GUINEA',\n",
       "       'PARAGUAY', 'PERSIAN GULF', 'PERU', 'PHILIPPINES', 'PORTUGAL',\n",
       "       'PUERTO RICO', 'RED SEA', 'RED SEA / INDIAN OCEAN', 'RED SEA ',\n",
       "       'REUNION', 'REUNION ISLAND', 'RUSSIA', 'SAMOA', 'SAN DOMINGO',\n",
       "       'SAUDI ARABIA', 'SCOTLAND', 'SENEGAL', 'SEYCHELLES',\n",
       "       'SIERRA LEONE', 'SINGAPORE', 'SLOVENIA', 'SOLOMON ISLANDS',\n",
       "       'SOLOMON ISLANDS / VANUATU', 'SOMALIA', 'SOUTH AFRICA',\n",
       "       'SOUTH ATLANTIC OCEAN', 'SOUTH CHINA SEA', 'SOUTH KOREA',\n",
       "       'SOUTH PACIFIC OCEAN', 'SOUTHWEST PACIFIC OCEAN', 'SPAIN',\n",
       "       'SRI LANKA', 'ST HELENA, British overseas territory',\n",
       "       'ST. MAARTIN', 'ST. MARTIN', 'SUDAN', 'SUDAN ', 'SYRIA',\n",
       "       'Seychelles', 'Sierra Leone', 'TAIWAN', 'TANZANIA', 'TASMAN SEA',\n",
       "       'THAILAND', 'THE BALKANS', 'TOBAGO', 'TONGA', 'TRINIDAD & TOBAGO',\n",
       "       'TUNISIA', 'TURKEY', 'TURKS & CAICOS', 'TUVALU',\n",
       "       'UNITED ARAB EMIRATES', 'UNITED ARAB EMIRATES (UAE)',\n",
       "       'UNITED KINGDOM', 'URUGUAY', 'USA', 'VANUATU', 'VENEZUELA',\n",
       "       'VIETNAM', 'WEST INDIES', 'WESTERN SAMOA', 'YEMEN', 'YEMEN '],\n",
       "      dtype=object)"
      ]
     },
     "execution_count": 166,
     "metadata": {},
     "output_type": "execute_result"
    }
   ],
   "source": [
    "df['Country'].unique()"
   ]
  },
  {
   "cell_type": "code",
   "execution_count": 66,
   "metadata": {
    "ExecuteTime": {
     "end_time": "2021-08-25T11:31:18.566130Z",
     "start_time": "2021-08-25T11:31:18.547161Z"
    },
    "collapsed": true
   },
   "outputs": [
    {
     "data": {
      "text/plain": [
       "array([' PHILIPPINES', ' TONGA', 'AFRICA', 'ALGERIA', 'AMERICAN SAMOA',\n",
       "       'ANDAMAN / NICOBAR ISLANDAS', 'ANDAMAN ISLANDS', 'ANGOLA',\n",
       "       'ANTIGUA', 'ARGENTINA', 'ARUBA', 'ASIA ', 'ATLANTIC OCEAN',\n",
       "       'AUSTRALIA', 'AZORES', 'BAHAMAS', 'BAHREIN', 'BANGLADESH',\n",
       "       'BARBADOS', 'BAY OF BENGAL', 'BELIZE', 'BERMUDA', 'BRAZIL',\n",
       "       'BRITISH ISLES', 'BRITISH NEW GUINEA', 'BRITISH VIRGIN ISLANDS',\n",
       "       'BRITISH WEST INDIES', 'BURMA', 'Between PORTUGAL & INDIA',\n",
       "       'CANADA', 'CAPE VERDE', 'CARIBBEAN SEA', 'CAYMAN ISLANDS',\n",
       "       'CENTRAL PACIFIC', 'CEYLON', 'CEYLON (SRI LANKA)', 'CHILE',\n",
       "       'CHINA', 'COLUMBIA', 'COMOROS', 'COOK ISLANDS', 'COSTA RICA',\n",
       "       'CRETE', 'CROATIA', 'CUBA', 'CURACAO', 'CYPRUS', 'Coast of AFRICA',\n",
       "       'DIEGO GARCIA', 'DJIBOUTI', 'DOMINICAN REPUBLIC', 'ECUADOR',\n",
       "       'EGYPT', 'EGYPT ', 'EGYPT / ISRAEL', 'EL SALVADOR', 'ENGLAND',\n",
       "       'EQUATORIAL GUINEA / CAMEROON', 'FALKLAND ISLANDS',\n",
       "       'FEDERATED STATES OF MICRONESIA', 'FIJI', 'FRANCE',\n",
       "       'FRENCH POLYNESIA', 'Fiji', 'GABON', 'GEORGIA', 'GHANA',\n",
       "       'GRAND CAYMAN', 'GREECE', 'GRENADA', 'GUAM', 'GUATEMALA', 'GUINEA',\n",
       "       'GULF OF ADEN', 'GUYANA', 'HAITI', 'HONDURAS', 'HONG KONG',\n",
       "       'ICELAND', 'INDIA', 'INDIAN OCEAN', 'INDIAN OCEAN ', 'INDONESIA',\n",
       "       'IRAN', 'IRAQ', 'IRELAND', 'ISRAEL', 'ITALY', 'ITALY / CROATIA',\n",
       "       'JAMAICA', 'JAPAN', 'JAVA', 'JOHNSTON ISLAND', 'KENYA', 'KIRIBATI',\n",
       "       'KOREA', 'KUWAIT', 'LEBANON', 'LIBERIA', 'LIBYA', 'MADAGASCAR',\n",
       "       'MALAYSIA', 'MALDIVE ISLANDS', 'MALDIVES', 'MALTA',\n",
       "       'MARSHALL ISLANDS', 'MARTINIQUE', 'MAURITIUS', 'MAYOTTE',\n",
       "       'MEDITERRANEAN SEA', 'MEXICO', 'MEXICO ', 'MICRONESIA',\n",
       "       'MID ATLANTIC OCEAN', 'MID-PACIFC OCEAN', 'MONTENEGRO',\n",
       "       'MOZAMBIQUE', 'NAMIBIA', 'NETHERLANDS ANTILLES', 'NEVIS',\n",
       "       'NEW BRITAIN', 'NEW CALEDONIA', 'NEW GUINEA', 'NEW ZEALAND',\n",
       "       'NICARAGUA', 'NICARAGUA ', 'NIGERIA', 'NORTH ATLANTIC OCEAN',\n",
       "       'NORTH ATLANTIC OCEAN ', 'NORTH PACIFIC OCEAN', 'NORTH SEA',\n",
       "       'NORTHERN ARABIAN SEA', 'NORTHERN MARIANA ISLANDS', 'NORWAY',\n",
       "       'OCEAN', 'OKINAWA', 'PACIFIC OCEAN', 'PACIFIC OCEAN ', 'PALAU',\n",
       "       'PALESTINIAN TERRITORIES', 'PANAMA', 'PAPUA NEW GUINEA',\n",
       "       'PARAGUAY', 'PERSIAN GULF', 'PERU', 'PHILIPPINES', 'PORTUGAL',\n",
       "       'PUERTO RICO', 'RED SEA', 'RED SEA / INDIAN OCEAN', 'RED SEA ',\n",
       "       'REUNION', 'REUNION ISLAND', 'RUSSIA', 'SAMOA', 'SAN DOMINGO',\n",
       "       'SAUDI ARABIA', 'SCOTLAND', 'SENEGAL', 'SEYCHELLES',\n",
       "       'SIERRA LEONE', 'SINGAPORE', 'SLOVENIA', 'SOLOMON ISLANDS',\n",
       "       'SOLOMON ISLANDS / VANUATU', 'SOMALIA', 'SOUTH AFRICA',\n",
       "       'SOUTH ATLANTIC OCEAN', 'SOUTH CHINA SEA', 'SOUTH KOREA',\n",
       "       'SOUTH PACIFIC OCEAN', 'SOUTHWEST PACIFIC OCEAN', 'SPAIN',\n",
       "       'SRI LANKA', 'ST HELENA, British overseas territory',\n",
       "       'ST. MAARTIN', 'ST. MARTIN', 'SUDAN', 'SUDAN ', 'SYRIA',\n",
       "       'Seychelles', 'Sierra Leone', 'TAIWAN', 'TANZANIA', 'TASMAN SEA',\n",
       "       'THAILAND', 'THE BALKANS', 'TOBAGO', 'TONGA', 'TRINIDAD & TOBAGO',\n",
       "       'TUNISIA', 'TURKEY', 'TURKS & CAICOS', 'TUVALU',\n",
       "       'UNITED ARAB EMIRATES', 'UNITED ARAB EMIRATES (UAE)',\n",
       "       'UNITED KINGDOM', 'URUGUAY', 'USA', 'VANUATU', 'VENEZUELA',\n",
       "       'VIETNAM', 'WEST INDIES', 'WESTERN SAMOA', 'YEMEN', 'YEMEN '],\n",
       "      dtype=object)"
      ]
     },
     "execution_count": 66,
     "metadata": {},
     "output_type": "execute_result"
    }
   ],
   "source": [
    "df['Country'] = df['Country'].str.replace('?', ' ')\n",
    "df['Country'].unique()"
   ]
  },
  {
   "cell_type": "code",
   "execution_count": 139,
   "metadata": {
    "ExecuteTime": {
     "end_time": "2021-08-25T12:36:25.623080Z",
     "start_time": "2021-08-25T12:36:25.603620Z"
    }
   },
   "outputs": [
    {
     "data": {
      "text/plain": [
       "USA             2095\n",
       "AUSTRALIA       1215\n",
       "SOUTH AFRICA     535\n",
       "Name: Country, dtype: int64"
      ]
     },
     "execution_count": 139,
     "metadata": {},
     "output_type": "execute_result"
    }
   ],
   "source": [
    "df['Country'].value_counts().head(3)"
   ]
  },
  {
   "cell_type": "raw",
   "metadata": {},
   "source": [
    "Finding the most dangerous activities in the top 3 countries."
   ]
  },
  {
   "cell_type": "code",
   "execution_count": 108,
   "metadata": {
    "ExecuteTime": {
     "end_time": "2021-08-25T12:14:33.124956Z",
     "start_time": "2021-08-25T12:14:33.111990Z"
    }
   },
   "outputs": [
    {
     "data": {
      "text/plain": [
       "Surfing                                     564\n",
       "Swimming                                    310\n",
       "Fishing                                     115\n",
       "Wading                                      101\n",
       "Standing                                     57\n",
       "                                           ... \n",
       "SCUBA diving                                  1\n",
       "Pulling hooked salmon to boat                 1\n",
       "ship William Penn grounded & broke apart      1\n",
       "Paddle Boarding                               1\n",
       "Harpooning turtles                            1\n",
       "Name: Activity, Length: 508, dtype: int64"
      ]
     },
     "execution_count": 108,
     "metadata": {},
     "output_type": "execute_result"
    }
   ],
   "source": [
    "usa_activity = df[(df['Country'] == 'USA')]\n",
    "usa_activity['Activity'].value_counts()"
   ]
  },
  {
   "cell_type": "raw",
   "metadata": {},
   "source": [
    "Number of Fatal cases when attacked while surfing"
   ]
  },
  {
   "cell_type": "raw",
   "metadata": {},
   "source": [
    "Total cases 564 , Fatal 8, corresponding to 1.41 % of total cases (surfing) in USA."
   ]
  },
  {
   "cell_type": "code",
   "execution_count": 145,
   "metadata": {
    "ExecuteTime": {
     "end_time": "2021-08-25T12:45:01.424908Z",
     "start_time": "2021-08-25T12:45:01.405431Z"
    }
   },
   "outputs": [
    {
     "data": {
      "text/plain": [
       "Country  Activity  Fatal (Y/N)\n",
       "USA      Surfing   N              527\n",
       "                   Y                8\n",
       "                   UNKNOWN          3\n",
       "dtype: int64"
      ]
     },
     "execution_count": 145,
     "metadata": {},
     "output_type": "execute_result"
    }
   ],
   "source": [
    "usa_activity = df.query('Country == \"USA\" and Activity == \"Surfing\"')\n",
    "usa_activity.value_counts()\n"
   ]
  },
  {
   "cell_type": "code",
   "execution_count": 123,
   "metadata": {
    "ExecuteTime": {
     "end_time": "2021-08-25T12:19:27.145444Z",
     "start_time": "2021-08-25T12:19:27.124408Z"
    }
   },
   "outputs": [
    {
     "data": {
      "text/plain": [
       "Surfing                                            195\n",
       "Swimming                                           156\n",
       "Fishing                                            113\n",
       "Spearfishing                                        71\n",
       "Bathing                                             58\n",
       "                                                  ... \n",
       "Standing, gathering oysters                          1\n",
       "Diving, feeding sharks                               1\n",
       "Dived from dinghy to retrieve oar in heavy seas      1\n",
       "Fishing for cod                                      1\n",
       "Bathing in 5' of water                               1\n",
       "Name: Activity, Length: 375, dtype: int64"
      ]
     },
     "execution_count": 123,
     "metadata": {},
     "output_type": "execute_result"
    }
   ],
   "source": [
    "australia_activity = df[(df['Country'] == 'AUSTRALIA')]\n",
    "australia_activity['Activity'].value_counts()"
   ]
  },
  {
   "cell_type": "raw",
   "metadata": {},
   "source": [
    "Total cases 195 , Fatal 14 - corresponding to 7.17 % of total cases (surfing) in Australia."
   ]
  },
  {
   "cell_type": "code",
   "execution_count": 126,
   "metadata": {
    "ExecuteTime": {
     "end_time": "2021-08-25T12:21:41.958888Z",
     "start_time": "2021-08-25T12:21:41.938692Z"
    }
   },
   "outputs": [
    {
     "data": {
      "text/plain": [
       "Country    Activity  Fatal (Y/N)\n",
       "AUSTRALIA  Surfing   N              172\n",
       "                     Y               14\n",
       "                     UNKNOWN          2\n",
       "dtype: int64"
      ]
     },
     "execution_count": 126,
     "metadata": {},
     "output_type": "execute_result"
    }
   ],
   "source": [
    "stralia_activity = df.query('Country == \"AUSTRALIA\" and Activity == \"Surfing\"')\n",
    "stralia_activity.value_counts()"
   ]
  },
  {
   "cell_type": "code",
   "execution_count": 127,
   "metadata": {
    "ExecuteTime": {
     "end_time": "2021-08-25T12:22:25.430684Z",
     "start_time": "2021-08-25T12:22:25.420974Z"
    }
   },
   "outputs": [
    {
     "data": {
      "text/plain": [
       "Surfing                       97\n",
       "Swimming                      85\n",
       "Spearfishing                  49\n",
       "Fishing                       37\n",
       "Treading water                19\n",
       "                              ..\n",
       "Swimming, poaching abalone     1\n",
       "On a \"shark hunt\"              1\n",
       "Swimming with board            1\n",
       "Freediving                     1\n",
       "Swimming / snorkeling          1\n",
       "Name: Activity, Length: 150, dtype: int64"
      ]
     },
     "execution_count": 127,
     "metadata": {},
     "output_type": "execute_result"
    }
   ],
   "source": [
    "sa_activity = df[(df['Country'] == 'SOUTH AFRICA')]\n",
    "sa_activity['Activity'].value_counts()"
   ]
  },
  {
   "cell_type": "raw",
   "metadata": {},
   "source": [
    "Total cases 98 , Fatal 8 - corresponding to 8.24 % of total cases (surfing) in South Africa."
   ]
  },
  {
   "cell_type": "code",
   "execution_count": 144,
   "metadata": {
    "ExecuteTime": {
     "end_time": "2021-08-25T12:40:23.177936Z",
     "start_time": "2021-08-25T12:40:23.155429Z"
    }
   },
   "outputs": [
    {
     "data": {
      "text/plain": [
       "Country       Activity  Fatal (Y/N)\n",
       "SOUTH AFRICA  Surfing   N              87\n",
       "                        Y               8\n",
       "dtype: int64"
      ]
     },
     "execution_count": 144,
     "metadata": {},
     "output_type": "execute_result"
    }
   ],
   "source": [
    "sa_activity = df.query('Country == \"SOUTH AFRICA\" and Activity == \"Surfing\"')\n",
    "sa_activity.value_counts()\n"
   ]
  },
  {
   "cell_type": "raw",
   "metadata": {},
   "source": [
    "According to this study, we can see that the USA has the biggest number of total cases. However, proportionally, Australia has the most fatal attacks while practicing surf."
   ]
  }
 ],
 "metadata": {
  "kernelspec": {
   "display_name": "Python 3",
   "language": "python",
   "name": "python3"
  },
  "language_info": {
   "codemirror_mode": {
    "name": "ipython",
    "version": 3
   },
   "file_extension": ".py",
   "mimetype": "text/x-python",
   "name": "python",
   "nbconvert_exporter": "python",
   "pygments_lexer": "ipython3",
   "version": "3.8.5"
  },
  "toc": {
   "base_numbering": 1,
   "nav_menu": {},
   "number_sections": true,
   "sideBar": true,
   "skip_h1_title": false,
   "title_cell": "Table of Contents",
   "title_sidebar": "Contents",
   "toc_cell": false,
   "toc_position": {},
   "toc_section_display": true,
   "toc_window_display": false
  },
  "varInspector": {
   "cols": {
    "lenName": 16,
    "lenType": 16,
    "lenVar": 40
   },
   "kernels_config": {
    "python": {
     "delete_cmd_postfix": "",
     "delete_cmd_prefix": "del ",
     "library": "var_list.py",
     "varRefreshCmd": "print(var_dic_list())"
    },
    "r": {
     "delete_cmd_postfix": ") ",
     "delete_cmd_prefix": "rm(",
     "library": "var_list.r",
     "varRefreshCmd": "cat(var_dic_list()) "
    }
   },
   "types_to_exclude": [
    "module",
    "function",
    "builtin_function_or_method",
    "instance",
    "_Feature"
   ],
   "window_display": false
  }
 },
 "nbformat": 4,
 "nbformat_minor": 4
}
